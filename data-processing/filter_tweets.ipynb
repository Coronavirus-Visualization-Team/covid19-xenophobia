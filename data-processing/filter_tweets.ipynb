{
 "cells": [
  {
   "cell_type": "code",
   "execution_count": 1,
   "metadata": {},
   "outputs": [],
   "source": [
    "import preprocessor as p\n",
    "import pandas as pd\n",
    "import re"
   ]
  },
  {
   "cell_type": "code",
   "execution_count": 2,
   "metadata": {},
   "outputs": [],
   "source": [
    "FILENAME = 'april-partial-partial.csv'\n",
    "\n",
    "df = pd.DataFrame([], columns=['date', 'id', 'coordinates', 'full_text', 'hashtags'])\n",
    "df.to_csv('filtered_' + FILENAME, encoding='utf-8', index=False)"
   ]
  },
  {
   "cell_type": "code",
   "execution_count": 7,
   "metadata": {},
   "outputs": [],
   "source": [
    "reader = pd.read_csv(FILENAME, encoding='utf-8', parse_dates=['date'], chunksize=10000)\n",
    "p.set_options(p.OPT.URL)\n",
    "\n",
    "for chunk in reader:\n",
    "    chunk = chunk.fillna('')\n",
    "    filtered = chunk[chunk['full_text'].str.contains('china|chinese|asia|asian|chinazi|chink|chingchong|gook', flags=re.IGNORECASE, regex=True)]\n",
    "    for i, row in filtered.iterrows():\n",
    "        filtered.at[i, 'full_text'] = p.clean(row['full_text'])\n",
    "        print(row['full_text'])\n",
    "    filtered.to_csv('filtered_' + FILENAME, mode='a', encoding='utf-8', index=False, header=False)"
   ]
  }
 ],
 "metadata": {
  "kernelspec": {
   "display_name": "Python 3",
   "language": "python",
   "name": "python3"
  },
  "language_info": {
   "codemirror_mode": {
    "name": "ipython",
    "version": 3
   },
   "file_extension": ".py",
   "mimetype": "text/x-python",
   "name": "python",
   "nbconvert_exporter": "python",
   "pygments_lexer": "ipython3",
   "version": "3.7.6"
  }
 },
 "nbformat": 4,
 "nbformat_minor": 4
}
