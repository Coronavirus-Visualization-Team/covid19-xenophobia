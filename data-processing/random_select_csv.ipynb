{
 "cells": [
  {
   "cell_type": "code",
   "execution_count": 1,
   "metadata": {},
   "outputs": [
    {
     "name": "stderr",
     "output_type": "stream",
     "text": [
      "usage: ipykernel_launcher.py [-h] filename\n",
      "ipykernel_launcher.py: error: unrecognized arguments: -f\n"
     ]
    },
    {
     "ename": "SystemExit",
     "evalue": "2",
     "output_type": "error",
     "traceback": [
      "An exception has occurred, use %tb to see the full traceback.\n",
      "\u001b[1;31mSystemExit\u001b[0m\u001b[1;31m:\u001b[0m 2\n"
     ]
    },
    {
     "name": "stderr",
     "output_type": "stream",
     "text": [
      "C:\\Users\\michelle\\anaconda3\\lib\\site-packages\\IPython\\core\\interactiveshell.py:3339: UserWarning: To exit: use 'exit', 'quit', or Ctrl-D.\n",
      "  warn(\"To exit: use 'exit', 'quit', or Ctrl-D.\", stacklevel=1)\n"
     ]
    }
   ],
   "source": [
    "import argparse\n",
    "import pandas as pd\n",
    "import random\n",
    "import os.path\n",
    "\n",
    "parser = argparse.ArgumentParser()\n",
    "parser.add_argument('filename')\n",
    "args = parser.parse_args()\n",
    "\n",
    "FILENAME = args.filename\n",
    "\n",
    "if not os.path.isfile('selected.csv'):\n",
    "    df = pd.DataFrame([], columns=['date', 'id', 'coordinates', 'full_text', 'hashtags'])\n",
    "    df.to_csv('selected.csv', encoding='utf-8', index=False)\n",
    "    print('created file selected.csv')\n",
    "\n",
    "reader = pd.read_csv(FILENAME, encoding='utf-8', parse_dates=['date'], chunksize=683)\n",
    "\n",
    "for chunk in reader:\n",
    "    chunk = chunk.fillna('')\n",
    "    rand = random.randint(0, 682)\n",
    "    for i, row in chunk.iterrows():\n",
    "        if i % 683 == rand:\n",
    "            df = pd.DataFrame([row])\n",
    "            df.to_csv('selected.csv', mode='a', encoding='utf-8', index=False, header=False)\n",
    "            break"
   ]
  }
 ],
 "metadata": {
  "kernelspec": {
   "display_name": "Python 3",
   "language": "python",
   "name": "python3"
  },
  "language_info": {
   "codemirror_mode": {
    "name": "ipython",
    "version": 3
   },
   "file_extension": ".py",
   "mimetype": "text/x-python",
   "name": "python",
   "nbconvert_exporter": "python",
   "pygments_lexer": "ipython3",
   "version": "3.7.6"
  }
 },
 "nbformat": 4,
 "nbformat_minor": 4
}
