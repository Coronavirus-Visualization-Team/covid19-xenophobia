{
 "cells": [
  {
   "cell_type": "code",
   "execution_count": 102,
   "metadata": {
    "colab": {},
    "colab_type": "code",
    "id": "CVrb36Ybk-UR"
   },
   "outputs": [],
   "source": [
    "import numpy as np\n",
    "import pandas as pd\n",
    "from sklearn.metrics import *\n",
    "from sklearn.naive_bayes import MultinomialNB\n",
    "from sklearn.pipeline import make_pipeline\n",
    "from sklearn.feature_extraction.text import TfidfVectorizer\n",
    "from sklearn.model_selection import train_test_split\n",
    "from sklearn.model_selection import GridSearchCV\n",
    "\n",
    "# import nltk\n",
    "# import matplotlib.pyplot as plt\n",
    "# from sklearn.feature_extraction.text import CountVectorizer\n",
    "# from torchtext.vocab import GloVe\n",
    "# from wordcloud import WordCloud"
   ]
  },
  {
   "cell_type": "code",
   "execution_count": 103,
   "metadata": {
    "colab": {},
    "colab_type": "code",
    "id": "wqzNa3OuTCSS"
   },
   "outputs": [],
   "source": [
    "data_type = {\"date\": \"string\", \"id\": \"string\", \"coordinates\": \"string\", \"full_text\":\"string\", \"sentiment\": \"int\", \"key_words\":\"string\", \"hashtags\":\"string\"}\n",
    "data = pd.read_csv(\"tweet_data.csv\", dtype=data_type)\n",
    "\n",
    "X, y = data[\"full_text\"], data[\"sentiment\"]\n",
    "y = y.replace({1: 0, -2: -1})\n",
    "X_train, X_test, y_train, y_test = train_test_split(X, y, test_size=0.2, random_state=17)"
   ]
  },
  {
   "cell_type": "code",
   "execution_count": 114,
   "metadata": {
    "colab": {},
    "colab_type": "code",
    "id": "qqOIxm8lM40s"
   },
   "outputs": [],
   "source": [
    "tfidf = TfidfVectorizer(stop_words=\"english\", ngram_range=(1,2), max_df= 0.4, min_df= 0.02)\n",
    "X_train_tfidf = tfidf.fit_transform(X_train)\n",
    "X_test_tfidf = tfidf.transform(X_test)"
   ]
  },
  {
   "cell_type": "code",
   "execution_count": 115,
   "metadata": {
    "colab": {
     "base_uri": "https://localhost:8080/",
     "height": 124
    },
    "colab_type": "code",
    "id": "g6QvXHBTYIcL",
    "outputId": "33f3fb78-5e47-492d-aa03-1ff5418400e0"
   },
   "outputs": [
    {
     "name": "stdout",
     "output_type": "stream",
     "text": [
      "train F1: 70.4%\n",
      "train accuracy: 71.85%\n",
      "test F1: 69.45%\n",
      "test accuracy: 70.57%\n"
     ]
    }
   ],
   "source": [
    "nb_body = MultinomialNB() \n",
    "nb_body.fit(X_train_tfidf.toarray(), y_train) \n",
    "y_train_pred = nb_body.predict(X_train_tfidf.toarray())\n",
    "y_test_pred = nb_body.predict(X_test_tfidf.toarray())\n",
    "\n",
    "def print_accuracy(name, test, pred):\n",
    "    print(\"{} F1: {:.4}%\".format(name, f1_score(test, pred, average='macro') * 100))\n",
    "    print(\"{} accuracy: {:.4}%\".format(name, accuracy_score(test, pred) * 100))\n",
    "    \n",
    "print_accuracy(\"train\", y_train, y_train_pred)\n",
    "print_accuracy(\"test\", y_test, y_test_pred)"
   ]
  }
 ],
 "metadata": {
  "colab": {
   "collapsed_sections": [],
   "name": "Classifier.ipynb",
   "provenance": []
  },
  "kernelspec": {
   "display_name": "Python 3",
   "language": "python",
   "name": "python3"
  },
  "language_info": {
   "codemirror_mode": {
    "name": "ipython",
    "version": 3
   },
   "file_extension": ".py",
   "mimetype": "text/x-python",
   "name": "python",
   "nbconvert_exporter": "python",
   "pygments_lexer": "ipython3",
   "version": "3.7.6"
  }
 },
 "nbformat": 4,
 "nbformat_minor": 1
}
