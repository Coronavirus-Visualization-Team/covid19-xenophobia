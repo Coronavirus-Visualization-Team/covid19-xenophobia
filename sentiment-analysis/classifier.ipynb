{
 "cells": [
  {
   "cell_type": "code",
   "execution_count": 53,
   "metadata": {
    "colab": {},
    "colab_type": "code",
    "id": "CVrb36Ybk-UR"
   },
   "outputs": [],
   "source": [
    "import numpy as np\n",
    "import pandas as pd\n",
    "import spacy\n",
    "import string\n",
    "import pickle\n",
    "import matplotlib.pyplot as plt\n",
    "from sklearn.metrics import *\n",
    "from sklearn.naive_bayes import MultinomialNB\n",
    "from sklearn.svm import SVC\n",
    "from sklearn.pipeline import Pipeline\n",
    "from sklearn.feature_extraction.text import TfidfVectorizer\n",
    "from sklearn.model_selection import train_test_split\n",
    "from sklearn.model_selection import GridSearchCV"
   ]
  },
  {
   "cell_type": "code",
   "execution_count": 7,
   "metadata": {
    "colab": {},
    "colab_type": "code",
    "id": "wqzNa3OuTCSS"
   },
   "outputs": [],
   "source": [
    "data_type = {\"date\": \"string\", \"id\": \"string\", \"coordinates\": \"string\", \"full_text\":\"string\", \"sentiment\": \"int\", \"hashtags\":\"string\"}\n",
    "data = pd.read_csv(\"tweet_data.csv\", dtype=data_type)\n",
    "X, y = data[\"full_text\"], data[\"sentiment\"]\n",
    "\n",
    "nlp = spacy.load('en')\n",
    "\n",
    "def preprocess(text):\n",
    "    words = nlp(text)\n",
    "    tokens = [word.lemma_.lower() if word.lemma_ != '-PRON-' else word.lower_ for word in words]\n",
    "    tokens = [t for t in tokens if t not in string.punctuation]\n",
    "    return ' '.join(tokens)\n",
    "\n",
    "X = pd.Series([preprocess(text) for text in X])\n",
    "X_train, X_test, y_train, y_test = train_test_split(X, y, test_size=0.2, random_state=17)"
   ]
  },
  {
   "cell_type": "code",
   "execution_count": 52,
   "metadata": {},
   "outputs": [
    {
     "name": "stdout",
     "output_type": "stream",
     "text": [
      "train F1:         88.81%\n",
      "train accuracy:   92.46%\n",
      "test F1:          75.06%\n",
      "test accuracy:    84.42%\n"
     ]
    },
    {
     "data": {
      "text/plain": [
       "<sklearn.metrics._plot.confusion_matrix.ConfusionMatrixDisplay at 0x7f8e1c9d1e50>"
      ]
     },
     "execution_count": 52,
     "metadata": {},
     "output_type": "execute_result"
    },
    {
     "data": {
      "image/png": "[encoded data removed]",
      "text/plain": [
       "<Figure size 432x288 with 2 Axes>"
      ]
     },
     "metadata": {
      "needs_background": "light"
     },
     "output_type": "display_data"
    }
   ],
   "source": [
    "sample_weights = pd.Series(y_train)\n",
    "sample_weights = sample_weights.replace({0: 0.4, -1: 1})\n",
    "\n",
    "# steps = [('tfidf', TfidfVectorizer(stop_words=\"english\", ngram_range=(1,2), max_df=0.4, min_df=3)), \n",
    "#          ('clf', MultinomialNB())]\n",
    "steps = [('tfidf', TfidfVectorizer(stop_words=\"english\", ngram_range=(1,2), max_df=0.4, min_df=3)), \n",
    "         ('clf', SVC(kernel='sigmoid', C=10, gamma=0.1))]\n",
    "\n",
    "model = Pipeline(steps)\n",
    "model.fit(X_train, y_train, clf__sample_weight=sample_weights)\n",
    "\n",
    "y_train_pred = model.predict(X_train)\n",
    "y_test_pred = model.predict(X_test)\n",
    "\n",
    "def print_accuracy(name, test, pred):\n",
    "    print(\"{:17} {:.4}%\".format(name + \" F1:\", f1_score(test, pred, average='macro') * 100))\n",
    "    print(\"{:17} {:.4}%\".format(name + \" accuracy:\", accuracy_score(test, pred) * 100))\n",
    "    \n",
    "print_accuracy(\"train\", y_train, y_train_pred)\n",
    "print_accuracy(\"test\", y_test, y_test_pred)\n",
    "\n",
    "plot_confusion_matrix(model, X_test, y_test)"
   ]
  },
  {
   "cell_type": "code",
   "execution_count": 54,
   "metadata": {},
   "outputs": [],
   "source": [
    "# save model\n",
    "pickle.dump(model, open('clf.pickle', 'wb'))"
   ]
  },
  {
   "cell_type": "code",
   "execution_count": 41,
   "metadata": {},
   "outputs": [
    {
     "name": "stdout",
     "output_type": "stream",
     "text": [
      "Fitting 5 folds for each of 240 candidates, totalling 1200 fits\n"
     ]
    },
    {
     "name": "stderr",
     "output_type": "stream",
     "text": [
      "[Parallel(n_jobs=1)]: Using backend SequentialBackend with 1 concurrent workers.\n",
      "[Parallel(n_jobs=1)]: Done 1200 out of 1200 | elapsed: 21.2min finished\n"
     ]
    },
    {
     "name": "stdout",
     "output_type": "stream",
     "text": [
      "{'clf__C': 100, 'clf__gamma': 0.01, 'tfidf__max_df': 0.3, 'tfidf__min_df': 3, 'tfidf__ngram_range': (1, 2)}\n",
      "0.8264232209737828\n"
     ]
    }
   ],
   "source": [
    "# parameter tuning\n",
    "\n",
    "# steps = [('tfidf', TfidfVectorizer()), \n",
    "#          ('clf', MultinomialNB())]\n",
    "steps = [('tfidf', TfidfVectorizer(stop_words=\"english\")), \n",
    "         ('clf', SVC(kernel='sigmoid', C=1, gamma=1))]\n",
    "\n",
    "pipeline = Pipeline(steps)\n",
    "parameters = {'tfidf__ngram_range': ((1,2),),\n",
    "              'tfidf__max_df': (0.3, 0.4, 0.5, 0.6),\n",
    "              'tfidf__min_df': (3, 5, 7),\n",
    "              'clf__C': (0.01, 0.1, 1, 10, 100),\n",
    "              'clf__gamma': (0.01, 0.1, 1, 10)}\n",
    "\n",
    "clf = GridSearchCV(pipeline, parameters, verbose=1)\n",
    "clf.fit(X_train, y_train, clf__sample_weight=sample_weights)\n",
    "\n",
    "print(clf.best_params_)\n",
    "print(clf.best_score_)"
   ]
  }
 ],
 "metadata": {
  "colab": {
   "collapsed_sections": [],
   "name": "Classifier.ipynb",
   "provenance": []
  },
  "kernelspec": {
   "display_name": "Python 3",
   "language": "python",
   "name": "python3"
  },
  "language_info": {
   "codemirror_mode": {
    "name": "ipython",
    "version": 3
   },
   "file_extension": ".py",
   "mimetype": "text/x-python",
   "name": "python",
   "nbconvert_exporter": "python",
   "pygments_lexer": "ipython3",
   "version": "3.8.2"
  }
 },
 "nbformat": 4,
 "nbformat_minor": 1
}
