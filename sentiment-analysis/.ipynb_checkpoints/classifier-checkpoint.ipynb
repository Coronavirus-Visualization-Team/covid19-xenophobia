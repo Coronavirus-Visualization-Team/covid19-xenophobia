{
 "cells": [
  {
   "cell_type": "code",
   "execution_count": 2,
   "metadata": {
    "colab": {},
    "colab_type": "code",
    "id": "CVrb36Ybk-UR"
   },
   "outputs": [
    {
     "ename": "ModuleNotFoundError",
     "evalue": "No module named 'imblearn'",
     "output_type": "error",
     "traceback": [
      "\u001b[0;31m---------------------------------------------------------------------------\u001b[0m",
      "\u001b[0;31mModuleNotFoundError\u001b[0m                       Traceback (most recent call last)",
      "\u001b[0;32m<ipython-input-2-ab90446496e6>\u001b[0m in \u001b[0;36m<module>\u001b[0;34m\u001b[0m\n\u001b[1;32m     11\u001b[0m \u001b[0;32mfrom\u001b[0m \u001b[0msklearn\u001b[0m\u001b[0;34m.\u001b[0m\u001b[0mmodel_selection\u001b[0m \u001b[0;32mimport\u001b[0m \u001b[0mtrain_test_split\u001b[0m\u001b[0;34m\u001b[0m\u001b[0;34m\u001b[0m\u001b[0m\n\u001b[1;32m     12\u001b[0m \u001b[0;32mfrom\u001b[0m \u001b[0msklearn\u001b[0m\u001b[0;34m.\u001b[0m\u001b[0mmodel_selection\u001b[0m \u001b[0;32mimport\u001b[0m \u001b[0mGridSearchCV\u001b[0m\u001b[0;34m\u001b[0m\u001b[0;34m\u001b[0m\u001b[0m\n\u001b[0;32m---> 13\u001b[0;31m \u001b[0;32mfrom\u001b[0m \u001b[0mimblearn\u001b[0m\u001b[0;34m.\u001b[0m\u001b[0mover_sampling\u001b[0m \u001b[0;32mimport\u001b[0m \u001b[0mRandomOverSampler\u001b[0m\u001b[0;34m\u001b[0m\u001b[0;34m\u001b[0m\u001b[0m\n\u001b[0m\u001b[1;32m     14\u001b[0m \u001b[0;34m\u001b[0m\u001b[0m\n\u001b[1;32m     15\u001b[0m \u001b[0;31m# from torchtext.vocab import GloVe\u001b[0m\u001b[0;34m\u001b[0m\u001b[0;34m\u001b[0m\u001b[0;34m\u001b[0m\u001b[0m\n",
      "\u001b[0;31mModuleNotFoundError\u001b[0m: No module named 'imblearn'"
     ]
    }
   ],
   "source": [
    "import numpy as np\n",
    "import pandas as pd\n",
    "import spacy\n",
    "import string\n",
    "import matplotlib.pyplot as plt\n",
    "from sklearn.metrics import *\n",
    "from sklearn.naive_bayes import MultinomialNB\n",
    "from sklearn.svm import SVC\n",
    "from sklearn.pipeline import Pipeline\n",
    "from sklearn.feature_extraction.text import TfidfVectorizer\n",
    "from sklearn.model_selection import train_test_split\n",
    "from sklearn.model_selection import GridSearchCV\n",
    "# from imblearn.over_sampling import RandomOverSampler\n",
    "\n",
    "# from torchtext.vocab import GloVe\n",
    "# from wordcloud import WordCloud"
   ]
  },
  {
   "cell_type": "code",
   "execution_count": 2,
   "metadata": {
    "colab": {},
    "colab_type": "code",
    "id": "wqzNa3OuTCSS"
   },
   "outputs": [],
   "source": [
    "# data_type = {\"date\": \"string\", \"id\": \"string\", \"coordinates\": \"string\", \"full_text\":\"string\", \"sentiment\": \"int\", \"key_words\":\"string\", \"hashtags\":\"string\"}\n",
    "data_type = {\"date\": \"string\", \"id\": \"string\", \"coordinates\": \"string\", \"full_text\":\"string\", \"sentiment\": \"int\", \"hashtags\":\"string\"}\n",
    "data = pd.read_csv(\"tweet_data.csv\", dtype=data_type)\n",
    "X, y = data[\"full_text\"], data[\"sentiment\"]\n",
    "\n",
    "nlp = spacy.load('en_core_web_sm')\n",
    "\n",
    "def preprocess(text):\n",
    "    words = nlp(text)\n",
    "    tokens = [word.lemma_.lower() if word.lemma_ != '-PRON-' else word.lower_ for word in words]\n",
    "    tokens = [t for t in tokens if t not in string.punctuation]\n",
    "    return ' '.join(tokens)\n",
    "\n",
    "X = pd.Series([preprocess(text) for text in X])\n",
    "y = y.replace({1: 0, -2: -1})\n",
    "X_train, X_test, y_train, y_test = train_test_split(X, y, test_size=0.2, random_state=17)"
   ]
  },
  {
   "cell_type": "code",
   "execution_count": 3,
   "metadata": {},
   "outputs": [
    {
     "name": "stdout",
     "output_type": "stream",
     "text": [
      "train F1:         82.56%\n",
      "train accuracy:   90.2%\n",
      "test F1:          65.7%\n",
      "test accuracy:    80.59%\n"
     ]
    },
    {
     "data": {
      "text/plain": [
       "<sklearn.metrics._plot.confusion_matrix.ConfusionMatrixDisplay at 0x2070f55fa08>"
      ]
     },
     "execution_count": 3,
     "metadata": {},
     "output_type": "execute_result"
    },
    {
     "data": {
      "image/png": "[encoded data removed]",
      "text/plain": [
       "<Figure size 432x288 with 2 Axes>"
      ]
     },
     "metadata": {
      "needs_background": "light"
     },
     "output_type": "display_data"
    }
   ],
   "source": [
    "sample_weights = pd.Series(y_train)\n",
    "sample_weights = sample_weights.replace({0: 0.3, -1: 1})\n",
    "\n",
    "# oversample = RandomOverSampler(sampling_strategy=0.5)\n",
    "# X_train, y_train = oversample.fit_resample(pd.DataFrame(X_train), pd.DataFrame_train)\n",
    "\n",
    "steps = [('tfidf', TfidfVectorizer(stop_words=\"english\", ngram_range=(1,2), max_df=0.4, min_df=5)), \n",
    "         ('clf', MultinomialNB())]\n",
    "# steps = [('tfidf', TfidfVectorizer(stop_words=\"english\", ngram_range=(1,2), max_df=0.6, min_df=5)), \n",
    "#          ('clf', SVC(kernel='sigmoid', C=1, gamma=1))]\n",
    "\n",
    "model = Pipeline(steps)\n",
    "model.fit(X_train, y_train, clf__sample_weight=sample_weights)\n",
    "\n",
    "y_train_pred = model.predict(X_train)\n",
    "y_test_pred = model.predict(X_test)\n",
    "\n",
    "def print_accuracy(name, test, pred):\n",
    "    print(\"{:17} {:.4}%\".format(name + \" F1:\", f1_score(test, pred, average='macro') * 100))\n",
    "    print(\"{:17} {:.4}%\".format(name + \" accuracy:\", accuracy_score(test, pred) * 100))\n",
    "    \n",
    "print_accuracy(\"train\", y_train, y_train_pred)\n",
    "print_accuracy(\"test\", y_test, y_test_pred)\n",
    "\n",
    "plot_confusion_matrix(model, X_test, y_test)"
   ]
  },
  {
   "cell_type": "code",
   "execution_count": 10,
   "metadata": {},
   "outputs": [
    {
     "name": "stdout",
     "output_type": "stream",
     "text": [
      "['Grote Amerikaanse luchthavens extra waakzaam voor Chinees coronavirus /via @NOS'\n",
      " 'WHO: te vroeg om voor Chinees coronavirus de noodtoestand uit te roepen via @NOS'\n",
      " '@Hawks2Himalaya 此患者已于2020年1月23日病亡⚠️⚠️⚠️。这是一个连火车都不通的小县城。拜托各位转发。多谢🙏 #coronavirus #WuhanCoronavirus #wuhanvirus #WuhanOutbreak #ChinaVirus #ChinaziVirus #chinazi'\n",
      " ...\n",
      " '@vetchinkaPuhly @_PLU_XAN_ У нас принудительная самоизоляция, а не карантин'\n",
      " '@_gooki_ вряд-ли это поможет от вируса, но ладно)'\n",
      " 'Трамп анонсировал заявление о происхождении коронавируса » РФ-СМИ. Только свежие новости !:']\n"
     ]
    }
   ],
   "source": [
    "slurs = pd.read_csv(\"filtered.csv\")\n",
    "slurs.fillna(value='')\n",
    "text = slurs['full_text'].values.astype('U')\n",
    "print(text)\n",
    "text_pred = model.predict(text)"
   ]
  },
  {
   "cell_type": "code",
   "execution_count": 15,
   "metadata": {},
   "outputs": [
    {
     "name": "stdout",
     "output_type": "stream",
     "text": [
      "25361\n"
     ]
    },
    {
     "data": {
      "text/plain": [
       "5460"
      ]
     },
     "execution_count": 15,
     "metadata": {},
     "output_type": "execute_result"
    }
   ],
   "source": [
    "print(len(text_pred))\n",
    "sum([1 for t in text_pred if t == -1])"
   ]
  },
  {
   "cell_type": "code",
   "execution_count": 11,
   "metadata": {},
   "outputs": [
    {
     "name": "stdout",
     "output_type": "stream",
     "text": [
      "Fitting 5 folds for each of 9 candidates, totalling 45 fits\n"
     ]
    },
    {
     "name": "stderr",
     "output_type": "stream",
     "text": [
      "[Parallel(n_jobs=1)]: Using backend SequentialBackend with 1 concurrent workers.\n",
      "[Parallel(n_jobs=1)]: Done  45 out of  45 | elapsed:   15.2s finished\n"
     ]
    },
    {
     "data": {
      "text/plain": [
       "{'clf__alpha': 1.31,\n",
       " 'tfidf__max_df': 0.49,\n",
       " 'tfidf__min_df': 7,\n",
       " 'tfidf__ngram_range': (1, 2)}"
      ]
     },
     "execution_count": 11,
     "metadata": {},
     "output_type": "execute_result"
    }
   ],
   "source": [
    "# parameter tuning\n",
    "\n",
    "steps = [('tfidf', TfidfVectorizer()), \n",
    "         ('clf', MultinomialNB())]\n",
    "pipeline = Pipeline(steps)\n",
    "parameters = {'tfidf__ngram_range': ((1,2),),\n",
    "              'tfidf__max_df': (0.49, 0.5, 0.51),\n",
    "              'tfidf__min_df': (7,),\n",
    "              'clf__alpha': (1.305, 1.31, 1.315)}\n",
    "\n",
    "clf = GridSearchCV(pipeline, parameters, verbose=1)\n",
    "clf.fit(X_train, y_train)\n",
    "\n",
    "clf.best_params_"
   ]
  }
 ],
 "metadata": {
  "colab": {
   "collapsed_sections": [],
   "name": "Classifier.ipynb",
   "provenance": []
  },
  "kernelspec": {
   "display_name": "Python 3",
   "language": "python",
   "name": "python3"
  },
  "language_info": {
   "codemirror_mode": {
    "name": "ipython",
    "version": 3
   },
   "file_extension": ".py",
   "mimetype": "text/x-python",
   "name": "python",
   "nbconvert_exporter": "python",
   "pygments_lexer": "ipython3",
   "version": "3.8.2"
  }
 },
 "nbformat": 4,
 "nbformat_minor": 1
}
