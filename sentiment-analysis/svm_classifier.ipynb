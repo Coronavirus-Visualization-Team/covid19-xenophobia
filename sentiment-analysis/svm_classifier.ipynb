{
 "cells": [
  {
   "cell_type": "code",
   "execution_count": 1,
   "metadata": {
    "colab": {},
    "colab_type": "code",
    "id": "CVrb36Ybk-UR"
   },
   "outputs": [],
   "source": [
    "import numpy as np\n",
    "import pandas as pd\n",
    "from sklearn.metrics import *\n",
    "from sklearn.naive_bayes import MultinomialNB\n",
    "from sklearn.pipeline import Pipeline\n",
    "from sklearn.feature_extraction.text import TfidfVectorizer\n",
    "from sklearn.model_selection import train_test_split\n",
    "from sklearn.model_selection import GridSearchCV\n",
    "from sklearn import svm\n",
    "\n",
    "# import nltk\n",
    "# import matplotlib.pyplot as plt\n",
    "# from torchtext.vocab import GloVe\n",
    "# from wordcloud import WordCloud"
   ]
  },
  {
   "cell_type": "code",
   "execution_count": 2,
   "metadata": {
    "colab": {},
    "colab_type": "code",
    "id": "wqzNa3OuTCSS"
   },
   "outputs": [],
   "source": [
    "data_type = {\"date\": \"string\", \"id\": \"string\", \"coordinates\": \"string\", \"full_text\":\"string\", \"sentiment\": \"int\", \"key_words\":\"string\", \"hashtags\":\"string\"}\n",
    "data = pd.read_csv(\"tweet_data.csv\", dtype=data_type)\n",
    "\n",
    "X, y = data[\"full_text\"], data[\"sentiment\"]\n",
    "y = y.replace({1: 0, -2: -1})\n",
    "X_train, X_test, y_train, y_test = train_test_split(X, y, test_size=0.2, random_state=17)"
   ]
  },
  {
   "cell_type": "code",
   "execution_count": 18,
   "metadata": {},
   "outputs": [
    {
     "data": {
      "text/plain": [
       "Pipeline(steps=[('tfidf',\n",
       "                 TfidfVectorizer(max_df=0.6, min_df=5, ngram_range=(1, 2),\n",
       "                                 stop_words='english')),\n",
       "                ('clf', SVC(C=1, gamma=1, kernel='sigmoid'))])"
      ]
     },
     "execution_count": 18,
     "metadata": {},
     "output_type": "execute_result"
    }
   ],
   "source": [
    "steps = [('tfidf', TfidfVectorizer(stop_words=\"english\", ngram_range=(1,2), max_df=0.6, min_df=5)), \n",
    "         ('clf', svm.SVC(kernel='sigmoid', C=1, gamma=1))]\n",
    "model = Pipeline(steps)\n",
    "model.fit(X_train, y_train)"
   ]
  },
  {
   "cell_type": "code",
   "execution_count": 19,
   "metadata": {
    "colab": {
     "base_uri": "https://localhost:8080/",
     "height": 124
    },
    "colab_type": "code",
    "id": "g6QvXHBTYIcL",
    "outputId": "33f3fb78-5e47-492d-aa03-1ff5418400e0"
   },
   "outputs": [
    {
     "name": "stdout",
     "output_type": "stream",
     "text": [
      "train F1:         82.37%\n",
      "train accuracy:   82.89%\n",
      "test F1:          72.94%\n",
      "test accuracy:    73.43%\n"
     ]
    }
   ],
   "source": [
    "y_train_pred = model.predict(X_train)\n",
    "y_test_pred = model.predict(X_test)\n",
    "\n",
    "def print_accuracy(name, test, pred):\n",
    "    print(\"{:17} {:.4}%\".format(name + \" F1:\", f1_score(test, pred, average='macro') * 100))\n",
    "    print(\"{:17} {:.4}%\".format(name + \" accuracy:\", accuracy_score(test, pred) * 100))\n",
    "    \n",
    "print_accuracy(\"train\", y_train, y_train_pred)\n",
    "print_accuracy(\"test\", y_test, y_test_pred)"
   ]
  },
  {
   "cell_type": "code",
   "execution_count": 13,
   "metadata": {},
   "outputs": [
    {
     "name": "stdout",
     "output_type": "stream",
     "text": [
      "Fitting 5 folds for each of 12 candidates, totalling 60 fits\n"
     ]
    },
    {
     "name": "stderr",
     "output_type": "stream",
     "text": [
      "[Parallel(n_jobs=1)]: Using backend SequentialBackend with 1 concurrent workers.\n",
      "[Parallel(n_jobs=1)]: Done  60 out of  60 | elapsed:  2.5min finished\n"
     ]
    },
    {
     "data": {
      "text/plain": [
       "{'clf__C': 1,\n",
       " 'clf__gamma': 1,\n",
       " 'tfidf__max_df': 0.6,\n",
       " 'tfidf__min_df': 5,\n",
       " 'tfidf__ngram_range': (1, 2)}"
      ]
     },
     "execution_count": 13,
     "metadata": {},
     "output_type": "execute_result"
    }
   ],
   "source": [
    "# parameter tuning\n",
    "\n",
    "steps = [('tfidf', TfidfVectorizer()), \n",
    "         ('clf', svm.SVC())]\n",
    "pipeline = Pipeline(steps)\n",
    "parameters = {'tfidf__ngram_range': ((1,2),),\n",
    "              'tfidf__max_df': (0.3, 0.4, 0.5, 0.6),\n",
    "              'tfidf__min_df': (5, 7, 9),\n",
    "              'clf__C': (1,),\n",
    "              'clf__gamma': (1,)}\n",
    "\n",
    "clf = GridSearchCV(pipeline, parameters, verbose=1)\n",
    "clf.fit(X_train, y_train)\n",
    "\n",
    "clf.best_params_"
   ]
  },
  {
   "cell_type": "code",
   "execution_count": 9,
   "metadata": {},
   "outputs": [
    {
     "data": {
      "text/plain": [
       "{'clf__C': 1,\n",
       " 'clf__gamma': 1,\n",
       " 'tfidf__max_df': 0.49,\n",
       " 'tfidf__min_df': 7,\n",
       " 'tfidf__ngram_range': (1, 2)}"
      ]
     },
     "execution_count": 9,
     "metadata": {},
     "output_type": "execute_result"
    }
   ],
   "source": [
    "clf.best_params_"
   ]
  }
 ],
 "metadata": {
  "colab": {
   "collapsed_sections": [],
   "name": "Classifier.ipynb",
   "provenance": []
  },
  "kernelspec": {
   "display_name": "Python 3",
   "language": "python",
   "name": "python3"
  },
  "language_info": {
   "codemirror_mode": {
    "name": "ipython",
    "version": 3
   },
   "file_extension": ".py",
   "mimetype": "text/x-python",
   "name": "python",
   "nbconvert_exporter": "python",
   "pygments_lexer": "ipython3",
   "version": "3.7.6"
  }
 },
 "nbformat": 4,
 "nbformat_minor": 1
}
